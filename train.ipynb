{
 "cells": [
  {
   "cell_type": "code",
   "execution_count": 1,
   "metadata": {},
   "outputs": [
    {
     "name": "stdout",
     "output_type": "stream",
     "text": [
      "WARNING:tensorflow:From c:\\Users\\user\\AppData\\Local\\Programs\\Python\\Python39\\lib\\site-packages\\keras\\src\\losses.py:2976: The name tf.losses.sparse_softmax_cross_entropy is deprecated. Please use tf.compat.v1.losses.sparse_softmax_cross_entropy instead.\n",
      "\n"
     ]
    },
    {
     "name": "stderr",
     "output_type": "stream",
     "text": [
      "[nltk_data] Downloading package punkt to\n",
      "[nltk_data]     C:\\Users\\user\\AppData\\Roaming\\nltk_data...\n",
      "[nltk_data]   Package punkt is already up-to-date!\n",
      "[nltk_data] Downloading package stopwords to\n",
      "[nltk_data]     C:\\Users\\user\\AppData\\Roaming\\nltk_data...\n",
      "[nltk_data]   Package stopwords is already up-to-date!\n",
      "[nltk_data] Downloading package stopwords to\n",
      "[nltk_data]     C:\\Users\\user\\AppData\\Roaming\\nltk_data...\n",
      "[nltk_data]   Package stopwords is already up-to-date!\n"
     ]
    },
    {
     "data": {
      "text/plain": [
       "True"
      ]
     },
     "execution_count": 1,
     "metadata": {},
     "output_type": "execute_result"
    }
   ],
   "source": [
    "from statistics import mean\n",
    "\n",
    "import pandas as pd\n",
    "import seaborn as sns\n",
    "import matplotlib.pyplot as plt\n",
    "import gensim\n",
    "import nltk as nl\n",
    "from sklearn.feature_extraction import _stop_words\n",
    "from numpy import std\n",
    "from sklearn.svm import SVC\n",
    "from sklearn.preprocessing import LabelEncoder\n",
    "from sklearn.model_selection import train_test_split, cross_val_score\n",
    "from sklearn.neighbors import KNeighborsClassifier\n",
    "from keras.preprocessing.text import Tokenizer\n",
    "from keras.preprocessing import sequence\n",
    "from sklearn.naive_bayes import MultinomialNB\n",
    "from sklearn.metrics import classification_report, confusion_matrix, accuracy_score, precision_recall_curve\n",
    "import nltk\n",
    "from nltk.stem import PorterStemmer\n",
    "\n",
    "porter_stemmer = PorterStemmer()\n",
    "nltk.download('punkt')\n",
    "nltk.download('stopwords')\n",
    "nltk.download('stopwords')\n"
   ]
  },
  {
   "cell_type": "code",
   "execution_count": 28,
   "metadata": {},
   "outputs": [],
   "source": [
    "spam_data = pd.read_csv('./Dataset/spam.csv', delimiter=',', encoding='latin-1')\n",
    "real_data = pd.read_csv('./Dataset/real.csv', delimiter=',', encoding='latin-1')\n",
    "\n",
    "indo_data = pd.read_csv('./Dataset/spam_indo.csv', delimiter=',', encoding='latin-1')\n"
   ]
  },
  {
   "cell_type": "code",
   "execution_count": 4,
   "metadata": {},
   "outputs": [
    {
     "name": "stdout",
     "output_type": "stream",
     "text": [
      "       label                 message\n",
      "count   5619                    5619\n",
      "unique     2                    5215\n",
      "top      ham  Sorry, I'll call later\n",
      "freq    4863                      30\n",
      "Ham data count:\n",
      "4863\n",
      "Spam data count:\n",
      "756\n"
     ]
    },
    {
     "name": "stderr",
     "output_type": "stream",
     "text": [
      "C:\\Users\\user\\AppData\\Local\\Temp\\ipykernel_25560\\295063990.py:1: FutureWarning: The frame.append method is deprecated and will be removed from pandas in a future version. Use pandas.concat instead.\n",
      "  df = spam_data.append(real_data)\n"
     ]
    }
   ],
   "source": [
    "df = spam_data.append(real_data)\n",
    "df = df.rename(columns={'type': 'label', 'text': 'message'})\n",
    "df.head()\n",
    "print(df.describe())  # combined datas\n",
    "check = 'ham'\n",
    "print(\"Ham data count:\")\n",
    "print(df[df['label'] == check].count().get(0))\n",
    "check = 'spam'\n",
    "print(\"Spam data count:\")\n",
    "print(df[df['label'] == check].count().get(0))"
   ]
  },
  {
   "cell_type": "code",
   "execution_count": 30,
   "metadata": {},
   "outputs": [
    {
     "name": "stdout",
     "output_type": "stream",
     "text": [
      "<class 'pandas.core.frame.DataFrame'>\n",
      "RangeIndex: 1143 entries, 0 to 1142\n",
      "Data columns (total 2 columns):\n",
      " #   Column  Non-Null Count  Dtype \n",
      "---  ------  --------------  ----- \n",
      " 0   type    1143 non-null   object\n",
      " 1   text    1143 non-null   object\n",
      "dtypes: object(2)\n",
      "memory usage: 18.0+ KB\n"
     ]
    }
   ],
   "source": [
    "real_data = indo_data.copy()\n",
    "real_data.info()\n"
   ]
  },
  {
   "cell_type": "code",
   "execution_count": 31,
   "metadata": {},
   "outputs": [
    {
     "name": "stdout",
     "output_type": "stream",
     "text": [
      "Real Data:\n",
      "       label                                            message\n",
      "count   1143                                               1143\n",
      "unique     2                                               1142\n",
      "top     spam  bebas nama1, terus nanti kalau ada tgl libur, ...\n",
      "freq     574                                                  2\n",
      "569\n",
      "574\n",
      "Real Data:\n",
      "       label                                            message\n",
      "count   1143                                               1143\n",
      "unique     2                                               1142\n",
      "top     spam  bebas nama1, terus nanti kalau ada tgl libur, ...\n",
      "freq     574                                                  2\n",
      "569\n",
      "574\n"
     ]
    }
   ],
   "source": [
    "real_data = real_data.rename(columns={'type': 'label', 'text': 'message'})\n",
    "real_data.head()\n",
    "print(\"Real Data:\")\n",
    "print(real_data.describe())\n",
    "print(real_data[real_data['label'] == 'ham'].count().get(0))\n",
    "print(real_data[real_data['label'] == 'spam'].count().get(0))\n",
    "real_data = real_data.rename(columns={'type': 'label', 'text': 'message'})\n",
    "real_data.head()\n",
    "print(\"Real Data:\")\n",
    "print(real_data.describe())\n",
    "print(real_data[real_data['label'] == 'ham'].count().get(0))\n",
    "print(real_data[real_data['label'] == 'spam'].count().get(0))"
   ]
  },
  {
   "cell_type": "code",
   "execution_count": 32,
   "metadata": {},
   "outputs": [
    {
     "name": "stderr",
     "output_type": "stream",
     "text": [
      "C:\\Users\\user\\AppData\\Local\\Temp\\ipykernel_25560\\3547223293.py:7: FutureWarning: The default value of regex will change from True to False in a future version.\n",
      "  real_data['message'] = real_data['message'].str.replace('[^\\w\\s]', '')\n"
     ]
    }
   ],
   "source": [
    "nltk_stopwords = nl.corpus.stopwords.words('english')\n",
    "gensim_stopwords = gensim.parsing.preprocessing.STOPWORDS\n",
    "sklearn_stopwords = _stop_words.ENGLISH_STOP_WORDS\n",
    "combined_stopwords = sklearn_stopwords.union(nltk_stopwords, gensim_stopwords)\n",
    "# preprocessing on sms_dataset\n",
    "real_data['message'] = real_data['message'].apply(lambda x: x.lower())\n",
    "real_data['message'] = real_data['message'].str.replace('[^\\w\\s]', '')\n",
    "real_data['message'] = real_data['message'].apply(\n",
    "    lambda x: ' '.join([word for word in x.split() if word not in (combined_stopwords)]))"
   ]
  },
  {
   "cell_type": "code",
   "execution_count": 33,
   "metadata": {},
   "outputs": [],
   "source": [
    "X = real_data.message\n",
    "Y = real_data.label\n",
    "le = LabelEncoder()\n",
    "Y = le.fit_transform(Y)\n",
    "Y = Y.reshape(-1, 1)"
   ]
  },
  {
   "cell_type": "code",
   "execution_count": 34,
   "metadata": {},
   "outputs": [],
   "source": [
    "max_words = 1000\n",
    "max_len = 150\n",
    "tok = Tokenizer(num_words=max_words)\n",
    "tok.fit_on_texts(X)\n",
    "sequences = tok.texts_to_sequences(X)\n",
    "X_transform = sequence.pad_sequences(sequences, maxlen=max_len)"
   ]
  },
  {
   "cell_type": "code",
   "execution_count": 35,
   "metadata": {},
   "outputs": [],
   "source": [
    "validation_ratio = 0.15\n",
    "test_ratio = 0.15"
   ]
  },
  {
   "cell_type": "code",
   "execution_count": 36,
   "metadata": {},
   "outputs": [],
   "source": [
    "X_train, X_test, Y_train, Y_test = train_test_split(X_transform, Y, test_size=test_ratio)\n",
    "\n",
    "\n",
    "x_train, x_val, y_train, y_val = train_test_split(X_train, Y_train,\n",
    "                                                  test_size=test_ratio / (test_ratio + validation_ratio),\n",
    "                                                      random_state=1)"
   ]
  },
  {
   "cell_type": "markdown",
   "metadata": {},
   "source": [
    "## Naive Bayes"
   ]
  },
  {
   "cell_type": "code",
   "execution_count": 37,
   "metadata": {},
   "outputs": [],
   "source": [
    "nb = MultinomialNB()\n",
    "nb.fit(X_train, Y_train.reshape(len(Y_train), ))\n",
    "nb_pred = nb.predict(X_test)\n",
    "# evaluationResult(Y_test.reshape(len(Y_test), ), nb_pred, 'naive bayes')"
   ]
  },
  {
   "cell_type": "code",
   "execution_count": 38,
   "metadata": {},
   "outputs": [
    {
     "name": "stdout",
     "output_type": "stream",
     "text": [
      "              precision    recall  f1-score   support\n",
      "\n",
      "         Ham       0.66      0.78      0.71        83\n",
      "        Spam       0.75      0.62      0.68        89\n",
      "\n",
      "    accuracy                           0.70       172\n",
      "   macro avg       0.70      0.70      0.70       172\n",
      "weighted avg       0.71      0.70      0.70       172\n",
      "\n",
      "Confusion Matrix:\n",
      "      Predicted Ham  Predicted Spam\n",
      "Ham              65              18\n",
      "Spam             34              55\n",
      "Accuracy: 0.69767\n"
     ]
    },
    {
     "data": {
      "text/plain": [
       "<Figure size 1000x400 with 0 Axes>"
      ]
     },
     "execution_count": 38,
     "metadata": {},
     "output_type": "execute_result"
    },
    {
     "data": {
      "text/plain": [
       "<Figure size 1000x400 with 0 Axes>"
      ]
     },
     "metadata": {},
     "output_type": "display_data"
    }
   ],
   "source": [
    "print(classification_report(Y_test.reshape(len(Y_test), ), nb_pred, target_names=['Ham', 'Spam']))\n",
    "print(\"Confusion Matrix:\")\n",
    "print(pd.DataFrame(confusion_matrix(Y_test.reshape(len(Y_test), ), nb_pred),\n",
    "                    columns=['Predicted Ham', 'Predicted Spam'],\n",
    "                       index=['Ham', 'Spam']))\n",
    "\n",
    "print(f'Accuracy: {round(accuracy_score(Y_test.reshape(len(Y_test), ), nb_pred), 5)}')\n",
    "\n",
    "plt.figure(figsize=(10, 4))"
   ]
  },
  {
   "cell_type": "code",
   "execution_count": 39,
   "metadata": {},
   "outputs": [
    {
     "data": {
      "image/png": "[encoded data removed]",
      "text/plain": [
       "<Figure size 1000x400 with 2 Axes>"
      ]
     },
     "metadata": {},
     "output_type": "display_data"
    }
   ],
   "source": [
    "plt.figure(figsize=(10, 4))\n",
    "name = 'naive bayes'\n",
    "heatmap = sns.heatmap(data=pd.DataFrame(confusion_matrix(Y_test.reshape(len(Y_test), ), nb_pred)), annot=True, fmt=\"d\",\n",
    "                          cmap=sns.color_palette(\"Blues\", 50))\n",
    "heatmap.yaxis.set_ticklabels(heatmap.yaxis.get_ticklabels(), rotation=0, ha='right', fontsize=14)\n",
    "heatmap.xaxis.set_ticklabels(heatmap.xaxis.get_ticklabels(), rotation=45, ha='right', fontsize=14)\n",
    "plt.ylabel('Ground Truth for ' + name)\n",
    "plt.xlabel('Prediction for ' + name)\n",
    "plt.show()\n"
   ]
  }
 ],
 "metadata": {
  "kernelspec": {
   "display_name": "Python 3",
   "language": "python",
   "name": "python3"
  },
  "language_info": {
   "codemirror_mode": {
    "name": "ipython",
    "version": 3
   },
   "file_extension": ".py",
   "mimetype": "text/x-python",
   "name": "python",
   "nbconvert_exporter": "python",
   "pygments_lexer": "ipython3",
   "version": "3.9.0"
  }
 },
 "nbformat": 4,
 "nbformat_minor": 2
}
